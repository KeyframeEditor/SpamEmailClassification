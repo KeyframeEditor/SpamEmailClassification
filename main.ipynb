{
  "cells": [
    {
      "cell_type": "code",
      "execution_count": null,
      "metadata": {
        "id": "4784RTObTp56"
      },
      "outputs": [],
      "source": [
        "import numpy as np\n",
        "import pandas as pd\n",
        "import matplotlib.pyplot as plt\n",
        "\n",
        "from sklearn.feature_extraction.text import  TfidfVectorizer\n",
        "from sklearn.model_selection import train_test_split"
      ]
    },
    {
      "cell_type": "code",
      "execution_count": null,
      "metadata": {
        "colab": {
          "base_uri": "https://localhost:8080/"
        },
        "id": "Mj19Faa7O6UK",
        "outputId": "ae00242d-687e-4e78-ad77-31e2a4ebdc4d"
      },
      "outputs": [],
      "source": [
        "# get dataset dari public link drive ku (ga perlu mount/akun)\n",
        "!pip install gdown\n",
        "\n",
        "file_id = '1cXASsh88T1kqOfXAPRKhC2CxqxjUnUvI'\n",
        "url = f'https://drive.google.com/uc?id={file_id}'\n",
        "output_filename = 'SpamEmailClassificationDataset.csv'\n",
        "\n",
        "!gdown --id {file_id} --output {output_filename}"
      ]
    },
    {
      "cell_type": "code",
      "execution_count": 7,
      "metadata": {
        "colab": {
          "base_uri": "https://localhost:8080/",
          "height": 424
        },
        "id": "WKFayTTncgnP",
        "outputId": "e84e2b6a-0038-4432-ba6c-9ceb3f5cf84f"
      },
      "outputs": [
        {
          "data": {
            "text/html": [
              "<div>\n",
              "<style scoped>\n",
              "    .dataframe tbody tr th:only-of-type {\n",
              "        vertical-align: middle;\n",
              "    }\n",
              "\n",
              "    .dataframe tbody tr th {\n",
              "        vertical-align: top;\n",
              "    }\n",
              "\n",
              "    .dataframe thead th {\n",
              "        text-align: right;\n",
              "    }\n",
              "</style>\n",
              "<table border=\"1\" class=\"dataframe\">\n",
              "  <thead>\n",
              "    <tr style=\"text-align: right;\">\n",
              "      <th></th>\n",
              "      <th>label</th>\n",
              "      <th>text</th>\n",
              "    </tr>\n",
              "  </thead>\n",
              "  <tbody>\n",
              "    <tr>\n",
              "      <th>0</th>\n",
              "      <td>1</td>\n",
              "      <td>ounce feather bowl hummingbird opec moment ala...</td>\n",
              "    </tr>\n",
              "    <tr>\n",
              "      <th>1</th>\n",
              "      <td>1</td>\n",
              "      <td>wulvob get your medircations online qnb ikud v...</td>\n",
              "    </tr>\n",
              "    <tr>\n",
              "      <th>2</th>\n",
              "      <td>0</td>\n",
              "      <td>computer connection from cnn com wednesday es...</td>\n",
              "    </tr>\n",
              "    <tr>\n",
              "      <th>3</th>\n",
              "      <td>1</td>\n",
              "      <td>university degree obtain a prosperous future m...</td>\n",
              "    </tr>\n",
              "    <tr>\n",
              "      <th>4</th>\n",
              "      <td>0</td>\n",
              "      <td>thanks for all your answers guys i know i shou...</td>\n",
              "    </tr>\n",
              "    <tr>\n",
              "      <th>...</th>\n",
              "      <td>...</td>\n",
              "      <td>...</td>\n",
              "    </tr>\n",
              "    <tr>\n",
              "      <th>83443</th>\n",
              "      <td>0</td>\n",
              "      <td>hi given a date how do i get the last date of ...</td>\n",
              "    </tr>\n",
              "    <tr>\n",
              "      <th>83444</th>\n",
              "      <td>1</td>\n",
              "      <td>now you can order software on cd or download i...</td>\n",
              "    </tr>\n",
              "    <tr>\n",
              "      <th>83445</th>\n",
              "      <td>1</td>\n",
              "      <td>dear valued member canadianpharmacy provides a...</td>\n",
              "    </tr>\n",
              "    <tr>\n",
              "      <th>83446</th>\n",
              "      <td>0</td>\n",
              "      <td>subscribe change profile contact us long term ...</td>\n",
              "    </tr>\n",
              "    <tr>\n",
              "      <th>83447</th>\n",
              "      <td>1</td>\n",
              "      <td>get the most out of life ! viagra has helped m...</td>\n",
              "    </tr>\n",
              "  </tbody>\n",
              "</table>\n",
              "<p>83448 rows × 2 columns</p>\n",
              "</div>"
            ],
            "text/plain": [
              "       label                                               text\n",
              "0          1  ounce feather bowl hummingbird opec moment ala...\n",
              "1          1  wulvob get your medircations online qnb ikud v...\n",
              "2          0   computer connection from cnn com wednesday es...\n",
              "3          1  university degree obtain a prosperous future m...\n",
              "4          0  thanks for all your answers guys i know i shou...\n",
              "...      ...                                                ...\n",
              "83443      0  hi given a date how do i get the last date of ...\n",
              "83444      1  now you can order software on cd or download i...\n",
              "83445      1  dear valued member canadianpharmacy provides a...\n",
              "83446      0  subscribe change profile contact us long term ...\n",
              "83447      1  get the most out of life ! viagra has helped m...\n",
              "\n",
              "[83448 rows x 2 columns]"
            ]
          },
          "execution_count": 7,
          "metadata": {},
          "output_type": "execute_result"
        }
      ],
      "source": [
        "import pandas as pd\n",
        "\n",
        "df = pd.read_csv('SpamEmailClassificationDataset.csv')\n",
        "df"
      ]
    },
    {
      "attachments": {},
      "cell_type": "markdown",
      "metadata": {
        "id": "uYOOjmeaYO6x"
      },
      "source": [
        "# **Data Pre-Processing**"
      ]
    },
    {
      "cell_type": "code",
      "execution_count": 8,
      "metadata": {
        "colab": {
          "base_uri": "https://localhost:8080/"
        },
        "id": "l9Kt4EbrTxPu",
        "outputId": "e28a0869-cda1-48c1-e40a-1f618e2b3b55"
      },
      "outputs": [
        {
          "data": {
            "text/plain": [
              "label    0\n",
              "text     0\n",
              "dtype: int64"
            ]
          },
          "execution_count": 8,
          "metadata": {},
          "output_type": "execute_result"
        }
      ],
      "source": [
        "df.isnull().sum()"
      ]
    },
    {
      "cell_type": "code",
      "execution_count": 9,
      "metadata": {
        "colab": {
          "base_uri": "https://localhost:8080/"
        },
        "id": "lJcXmx44T24v",
        "outputId": "3429283f-7f35-45eb-a5e5-39019071e035"
      },
      "outputs": [
        {
          "data": {
            "text/plain": [
              "label     int64\n",
              "text     object\n",
              "dtype: object"
            ]
          },
          "execution_count": 9,
          "metadata": {},
          "output_type": "execute_result"
        }
      ],
      "source": [
        "df.dtypes"
      ]
    },
    {
      "cell_type": "code",
      "execution_count": 10,
      "metadata": {
        "id": "wBQ1cwbDUAZH"
      },
      "outputs": [],
      "source": [
        "df.loc[df['label'] == 'spam', 'label',] = 0\n",
        "df.loc[df['label'] == 'ham', 'label',] = 1"
      ]
    },
    {
      "cell_type": "code",
      "execution_count": 11,
      "metadata": {
        "colab": {
          "base_uri": "https://localhost:8080/"
        },
        "id": "hYIJ8WzyUSx_",
        "outputId": "201e1fb0-230f-41b5-9750-7b7b8dc8c3a2"
      },
      "outputs": [
        {
          "data": {
            "text/plain": [
              "label\n",
              "1    43910\n",
              "0    39538\n",
              "Name: count, dtype: int64"
            ]
          },
          "execution_count": 11,
          "metadata": {},
          "output_type": "execute_result"
        }
      ],
      "source": [
        "df['label'].value_counts()"
      ]
    },
    {
      "cell_type": "code",
      "execution_count": 12,
      "metadata": {
        "id": "aa195BabUc5v"
      },
      "outputs": [],
      "source": [
        "X = df['text']\n",
        "\n",
        "Y = df['label']"
      ]
    },
    {
      "cell_type": "code",
      "execution_count": 13,
      "metadata": {
        "colab": {
          "base_uri": "https://localhost:8080/"
        },
        "id": "izl_aqeVUjLC",
        "outputId": "8516d17e-77a0-48aa-e07a-a5fca27b4508"
      },
      "outputs": [
        {
          "data": {
            "text/plain": [
              "0        ounce feather bowl hummingbird opec moment ala...\n",
              "1        wulvob get your medircations online qnb ikud v...\n",
              "2         computer connection from cnn com wednesday es...\n",
              "3        university degree obtain a prosperous future m...\n",
              "4        thanks for all your answers guys i know i shou...\n",
              "                               ...                        \n",
              "83443    hi given a date how do i get the last date of ...\n",
              "83444    now you can order software on cd or download i...\n",
              "83445    dear valued member canadianpharmacy provides a...\n",
              "83446    subscribe change profile contact us long term ...\n",
              "83447    get the most out of life ! viagra has helped m...\n",
              "Name: text, Length: 83448, dtype: object"
            ]
          },
          "execution_count": 13,
          "metadata": {},
          "output_type": "execute_result"
        }
      ],
      "source": [
        "X"
      ]
    },
    {
      "cell_type": "code",
      "execution_count": 14,
      "metadata": {
        "colab": {
          "base_uri": "https://localhost:8080/"
        },
        "id": "qGZjIja8UlOe",
        "outputId": "6f1e14ee-63ca-473a-9bde-522af0870c19"
      },
      "outputs": [
        {
          "data": {
            "text/plain": [
              "0        1\n",
              "1        1\n",
              "2        0\n",
              "3        1\n",
              "4        0\n",
              "        ..\n",
              "83443    0\n",
              "83444    1\n",
              "83445    1\n",
              "83446    0\n",
              "83447    1\n",
              "Name: label, Length: 83448, dtype: int64"
            ]
          },
          "execution_count": 14,
          "metadata": {},
          "output_type": "execute_result"
        }
      ],
      "source": [
        "Y"
      ]
    },
    {
      "cell_type": "code",
      "execution_count": 15,
      "metadata": {
        "id": "BF5xrFbSUpDA"
      },
      "outputs": [],
      "source": [
        "X_train, X_test, Y_train, Y_test = train_test_split(X, Y, test_size=0.2, random_state=3)"
      ]
    },
    {
      "cell_type": "code",
      "execution_count": 16,
      "metadata": {
        "colab": {
          "base_uri": "https://localhost:8080/"
        },
        "id": "RDtF2W2bUvme",
        "outputId": "2c227fe6-2584-4b6b-abb6-40f852676478"
      },
      "outputs": [
        {
          "name": "stdout",
          "output_type": "stream",
          "text": [
            "(83448,)\n",
            "(66758,)\n",
            "(16690,)\n"
          ]
        }
      ],
      "source": [
        "print(X.shape)\n",
        "print(X_train.shape)\n",
        "print(X_test.shape)"
      ]
    },
    {
      "cell_type": "code",
      "execution_count": 17,
      "metadata": {
        "id": "VBdC-7DZV2gY"
      },
      "outputs": [],
      "source": [
        "feature_extraction = TfidfVectorizer(min_df=1, stop_words='english', lowercase=True)"
      ]
    },
    {
      "cell_type": "code",
      "execution_count": 18,
      "metadata": {
        "id": "Q-lJpyPuWs1w"
      },
      "outputs": [],
      "source": [
        "X_train_features = feature_extraction.fit_transform(X_train)\n",
        "X_test_features = feature_extraction.transform(X_test)"
      ]
    },
    {
      "cell_type": "code",
      "execution_count": 19,
      "metadata": {
        "id": "Sl6NNnhUW2np"
      },
      "outputs": [],
      "source": [
        "Y_train = Y_train.astype('int')\n",
        "Y_test = Y_test.astype('int')"
      ]
    },
    {
      "attachments": {},
      "cell_type": "markdown",
      "metadata": {
        "id": "tN3aBtL7Ye__"
      },
      "source": [
        "# **Model Training, Testing & Evaluation**"
      ]
    },
    {
      "cell_type": "code",
      "execution_count": 20,
      "metadata": {
        "id": "IkWBViXaaLro"
      },
      "outputs": [],
      "source": [
        "from sklearn.metrics import accuracy_score\n",
        "from sklearn.metrics import precision_score\n",
        "from sklearn.metrics import recall_score\n",
        "from sklearn.metrics import f1_score\n",
        "\n",
        "from sklearn.linear_model import LogisticRegression\n",
        "from sklearn.tree import DecisionTreeClassifier\n",
        "from sklearn.neighbors import KNeighborsClassifier\n",
        "from sklearn.ensemble import RandomForestClassifier"
      ]
    },
    {
      "attachments": {},
      "cell_type": "markdown",
      "metadata": {
        "id": "WHscfGO9aXEu"
      },
      "source": [
        "**DECISION TREE**"
      ]
    },
    {
      "cell_type": "code",
      "execution_count": 21,
      "metadata": {
        "colab": {
          "base_uri": "https://localhost:8080/"
        },
        "id": "_WlUcB4qaJPO",
        "outputId": "250cfbdb-83c7-4080-8949-03669a98ebdc"
      },
      "outputs": [
        {
          "name": "stdout",
          "output_type": "stream",
          "text": [
            "Decision Tress:\n",
            "\n",
            "Training Data Accuracy: 0.9998651846969652\n",
            "Testing Data Accuracy : 0.9645296584781307\n",
            "Precision             : 0.9653068143293028\n",
            "Recall                : 0.9677126996714626\n",
            "F1 Score              : 0.9665082597872822\n"
          ]
        }
      ],
      "source": [
        "dtrees = DecisionTreeClassifier()\n",
        "dtrees.fit(X_train_features, Y_train)\n",
        "\n",
        "dt_train = dtrees.predict(X_train_features)\n",
        "dt_test = dtrees.predict(X_test_features)\n",
        "\n",
        "dt_train_acc = accuracy_score(Y_train, dt_train)\n",
        "dt_test_acc = accuracy_score(Y_test, dt_test)\n",
        "\n",
        "dt_precision = precision_score(Y_test, dt_test)\n",
        "dt_recall = recall_score(Y_test, dt_test)\n",
        "dt_f1 = f1_score(Y_test, dt_test)\n",
        "\n",
        "\n",
        "print(\"Decision Tress:\\n\")\n",
        "print(\"Training Data Accuracy:\", dt_train_acc)\n",
        "print(\"Testing Data Accuracy :\", dt_test_acc)\n",
        "\n",
        "print(\"Precision             :\", dt_precision)\n",
        "print(\"Recall                :\", dt_recall)\n",
        "print(\"F1 Score              :\", dt_f1)"
      ]
    },
    {
      "attachments": {},
      "cell_type": "markdown",
      "metadata": {
        "id": "pmKcgU_PdDjE"
      },
      "source": [
        "**Logistic Regression**"
      ]
    },
    {
      "cell_type": "code",
      "execution_count": 22,
      "metadata": {
        "colab": {
          "base_uri": "https://localhost:8080/"
        },
        "id": "qqWl8nt0dHRQ",
        "outputId": "43606303-6ecb-47a1-9298-ea6c020e01b6"
      },
      "outputs": [
        {
          "name": "stdout",
          "output_type": "stream",
          "text": [
            "Logistic Regression:\n",
            "\n",
            "Training Data Accuracy: 0.9895443242757422\n",
            "Testing Data Accuracy : 0.984661473936489\n",
            "Precision             : 0.9775994650618522\n",
            "Recall                : 0.9937691174804577\n",
            "F1 Score              : 0.9856179775280899\n"
          ]
        }
      ],
      "source": [
        "lr = LogisticRegression()\n",
        "lr.fit(X_train_features, Y_train)\n",
        "\n",
        "lr_train = lr.predict(X_train_features)\n",
        "lr_test = lr.predict(X_test_features)\n",
        "\n",
        "lr_train_acc = accuracy_score(Y_train, lr_train)\n",
        "lr_test_acc = accuracy_score(Y_test, lr_test)\n",
        "\n",
        "lr_precision = precision_score(Y_test, lr_test)\n",
        "lr_recall = recall_score(Y_test, lr_test)\n",
        "lr_f1 = f1_score(Y_test, lr_test)\n",
        "\n",
        "\n",
        "print(\"Logistic Regression:\\n\")\n",
        "print(\"Training Data Accuracy:\", lr_train_acc)\n",
        "print(\"Testing Data Accuracy :\", lr_test_acc)\n",
        "\n",
        "print(\"Precision             :\", lr_precision)\n",
        "print(\"Recall                :\", lr_recall)\n",
        "print(\"F1 Score              :\", lr_f1)"
      ]
    },
    {
      "attachments": {},
      "cell_type": "markdown",
      "metadata": {
        "id": "py9ZPboxfsYy"
      },
      "source": [
        "**KNN**"
      ]
    },
    {
      "cell_type": "code",
      "execution_count": 23,
      "metadata": {
        "id": "lKIb9i3ZRHdm"
      },
      "outputs": [
        {
          "name": "stdout",
          "output_type": "stream",
          "text": [
            "K Nearest Neighbors:\n",
            "\n",
            "Training Data Accuracy: 0.8629827136822553\n",
            "Testing Data Accuracy : 0.8104254044337927\n",
            "Precision             : 0.7405079419009598\n",
            "Recall                : 0.987651523733998\n",
            "F1 Score              : 0.8464077669902913\n"
          ]
        }
      ],
      "source": [
        "knn = KNeighborsClassifier()\n",
        "knn.fit(X_train_features, Y_train)\n",
        "\n",
        "knn_train = knn.predict(X_train_features)\n",
        "knn_test = knn.predict(X_test_features)\n",
        "\n",
        "knn_train_acc = accuracy_score(Y_train, knn_train)\n",
        "knn_test_acc = accuracy_score(Y_test, knn_test)\n",
        "\n",
        "knn_precision = precision_score(Y_test, knn_test)\n",
        "knn_recall = recall_score(Y_test, knn_test)\n",
        "knn_f1 = f1_score(Y_test, knn_test)\n",
        "\n",
        "\n",
        "print(\"K Nearest Neighbors:\\n\")\n",
        "print(\"Training Data Accuracy:\", knn_train_acc)\n",
        "print(\"Testing Data Accuracy :\", knn_test_acc)\n",
        "\n",
        "print(\"Precision             :\", knn_precision)\n",
        "print(\"Recall                :\", knn_recall)\n",
        "print(\"F1 Score              :\", knn_f1)"
      ]
    },
    {
      "attachments": {},
      "cell_type": "markdown",
      "metadata": {
        "id": "zxz6RZ5bf2AC"
      },
      "source": [
        "**RANDOM FOREST**"
      ]
    },
    {
      "cell_type": "code",
      "execution_count": 24,
      "metadata": {
        "id": "rP5c8kjZf0qE"
      },
      "outputs": [
        {
          "name": "stdout",
          "output_type": "stream",
          "text": [
            "Random Forest:\n",
            "\n",
            "Training Data Accuracy: 0.9998651846969652\n",
            "Testing Data Accuracy : 0.9837028160575195\n",
            "Precision             : 0.987575515787074\n",
            "Recall                : 0.9815339299875382\n",
            "F1 Score              : 0.9845454545454545\n"
          ]
        }
      ],
      "source": [
        "rf = RandomForestClassifier()\n",
        "rf.fit(X_train_features, Y_train)\n",
        "\n",
        "rf_train = rf.predict(X_train_features)\n",
        "rf_test = rf.predict(X_test_features)\n",
        "\n",
        "rf_train_acc = accuracy_score(Y_train, rf_train)\n",
        "rf_test_acc = accuracy_score(Y_test, rf_test)\n",
        "\n",
        "rf_precision = precision_score(Y_test, rf_test)\n",
        "rf_recall = recall_score(Y_test, rf_test)\n",
        "rf_f1 = f1_score(Y_test, rf_test)\n",
        "\n",
        "\n",
        "print(\"Random Forest:\\n\")\n",
        "print(\"Training Data Accuracy:\", rf_train_acc)\n",
        "print(\"Testing Data Accuracy :\", rf_test_acc)\n",
        "\n",
        "print(\"Precision             :\", rf_precision)\n",
        "print(\"Recall                :\", rf_recall)\n",
        "print(\"F1 Score              :\", rf_f1)"
      ]
    },
    {
      "attachments": {},
      "cell_type": "markdown",
      "metadata": {
        "id": "9YW3R8sL5A46"
      },
      "source": [
        "# **Stacking Model**"
      ]
    },
    {
      "cell_type": "code",
      "execution_count": 25,
      "metadata": {
        "id": "fWOHH25i5mGh"
      },
      "outputs": [],
      "source": [
        "from sklearn.svm import SVC\n",
        "from sklearn.ensemble import StackingClassifier"
      ]
    },
    {
      "cell_type": "code",
      "execution_count": 26,
      "metadata": {
        "id": "JHTqALzZ5NA9"
      },
      "outputs": [
        {
          "name": "stdout",
          "output_type": "stream",
          "text": [
            "Stacking Classifier:\n",
            "\n",
            "Training Data Accuracy: 0.9988016417508014\n",
            "Testing Data Accuracy : 0.9881366087477531\n",
            "Precision             : 0.9866892272983644\n",
            "Recall                : 0.990936898153393\n",
            "F1 Score              : 0.988808501017409\n"
          ]
        }
      ],
      "source": [
        "estimators = [ ('dtree', dtrees),('lr', lr), ('rf', rf) ] #('knn', knn),\n",
        "stack = StackingClassifier(estimators, final_estimator = SVC(kernel='linear'))\n",
        "stack.fit(X_train_features, Y_train)\n",
        "\n",
        "stack_train = stack.predict(X_train_features)\n",
        "stack_test = stack.predict(X_test_features)\n",
        "\n",
        "stack_train_acc = accuracy_score(Y_train, stack_train)\n",
        "stack_test_acc = accuracy_score(Y_test, stack_test)\n",
        "\n",
        "stack_precision = precision_score(Y_test, stack_test)\n",
        "stack_recall = recall_score(Y_test, stack_test)\n",
        "stack_f1 = f1_score(Y_test, stack_test)\n",
        "\n",
        "\n",
        "print(\"Stacking Classifier:\\n\")\n",
        "print(\"Training Data Accuracy:\", stack_train_acc)\n",
        "print(\"Testing Data Accuracy :\", stack_test_acc)\n",
        "\n",
        "print(\"Precision             :\", stack_precision)\n",
        "print(\"Recall                :\", stack_recall)\n",
        "print(\"F1 Score              :\", stack_f1)"
      ]
    },
    {
      "attachments": {},
      "cell_type": "markdown",
      "metadata": {
        "id": "pdgUhnxrZtIO"
      },
      "source": [
        "# **Metrics Visualization**"
      ]
    },
    {
      "cell_type": "code",
      "execution_count": 30,
      "metadata": {
        "id": "qtPqSnlIkm2m"
      },
      "outputs": [],
      "source": [
        "train_acc_list = {\"LR\":lr_train_acc,\n",
        "                  \"DT\":dt_train_acc,\n",
        "                  \"KNN\":knn_train_acc,\n",
        "                  \"RF\":rf_train_acc}\n",
        "\n",
        "test_acc_list = {\"LR\":lr_test_acc,\n",
        "                  \"DT\":dt_test_acc,\n",
        "                  \"KNN\":knn_test_acc,\n",
        "                  \"RF\":rf_test_acc}\n",
        "\n",
        "precision_list = {\"LR\":lr_precision,\n",
        "                  \"DT\":dt_precision,\n",
        "                  \"KNN\":knn_precision,\n",
        "                  \"RF\":rf_precision}\n",
        "\n",
        "recall_list = {\"LR\":lr_recall,\n",
        "               \"DT\":dt_recall,\n",
        "               \"KNN\":knn_recall,\n",
        "               \"RF\":rf_recall}\n",
        "\n",
        "f1_list = {\"LR\":lr_f1,\n",
        "               \"DT\":dt_f1,\n",
        "               \"KNN\":knn_f1,\n",
        "               \"RF\":rf_f1}"
      ]
    },
    {
      "cell_type": "code",
      "execution_count": 31,
      "metadata": {
        "id": "CSEqqwFlktU0"
      },
      "outputs": [
        {
          "data": {
            "text/html": [
              "<div>\n",
              "<style scoped>\n",
              "    .dataframe tbody tr th:only-of-type {\n",
              "        vertical-align: middle;\n",
              "    }\n",
              "\n",
              "    .dataframe tbody tr th {\n",
              "        vertical-align: top;\n",
              "    }\n",
              "\n",
              "    .dataframe thead th {\n",
              "        text-align: right;\n",
              "    }\n",
              "</style>\n",
              "<table border=\"1\" class=\"dataframe\">\n",
              "  <thead>\n",
              "    <tr style=\"text-align: right;\">\n",
              "      <th></th>\n",
              "      <th>Traning Accuracy</th>\n",
              "      <th>Testing Accuracy</th>\n",
              "      <th>Precision Score</th>\n",
              "      <th>Recall Score</th>\n",
              "      <th>F1 Score</th>\n",
              "    </tr>\n",
              "  </thead>\n",
              "  <tbody>\n",
              "    <tr>\n",
              "      <th>LR</th>\n",
              "      <td>0.989544</td>\n",
              "      <td>0.984661</td>\n",
              "      <td>0.977599</td>\n",
              "      <td>0.993769</td>\n",
              "      <td>0.985618</td>\n",
              "    </tr>\n",
              "    <tr>\n",
              "      <th>DT</th>\n",
              "      <td>0.999865</td>\n",
              "      <td>0.964530</td>\n",
              "      <td>0.965307</td>\n",
              "      <td>0.967713</td>\n",
              "      <td>0.966508</td>\n",
              "    </tr>\n",
              "    <tr>\n",
              "      <th>KNN</th>\n",
              "      <td>0.862983</td>\n",
              "      <td>0.810425</td>\n",
              "      <td>0.740508</td>\n",
              "      <td>0.987652</td>\n",
              "      <td>0.846408</td>\n",
              "    </tr>\n",
              "    <tr>\n",
              "      <th>RF</th>\n",
              "      <td>0.999865</td>\n",
              "      <td>0.983703</td>\n",
              "      <td>0.987576</td>\n",
              "      <td>0.981534</td>\n",
              "      <td>0.984545</td>\n",
              "    </tr>\n",
              "  </tbody>\n",
              "</table>\n",
              "</div>"
            ],
            "text/plain": [
              "     Traning Accuracy  Testing Accuracy  Precision Score  Recall Score  \\\n",
              "LR           0.989544          0.984661         0.977599      0.993769   \n",
              "DT           0.999865          0.964530         0.965307      0.967713   \n",
              "KNN          0.862983          0.810425         0.740508      0.987652   \n",
              "RF           0.999865          0.983703         0.987576      0.981534   \n",
              "\n",
              "     F1 Score  \n",
              "LR   0.985618  \n",
              "DT   0.966508  \n",
              "KNN  0.846408  \n",
              "RF   0.984545  "
            ]
          },
          "execution_count": 31,
          "metadata": {},
          "output_type": "execute_result"
        }
      ],
      "source": [
        "a1 =  pd.DataFrame.from_dict(train_acc_list, orient = 'index', columns = [\"Traning Accuracy\"])\n",
        "a2 =  pd.DataFrame.from_dict(test_acc_list, orient = 'index', columns = [\"Testing Accuracy\"])\n",
        "a3 =  pd.DataFrame.from_dict(precision_list, orient = 'index', columns = [\"Precision Score\"])\n",
        "a4 =  pd.DataFrame.from_dict(recall_list, orient = 'index', columns = [\"Recall Score\"])\n",
        "a5 =  pd.DataFrame.from_dict(f1_list, orient = 'index', columns = [\"F1 Score\"])\n",
        "\n",
        "org = pd.concat([a1, a2, a3, a4, a5], axis = 1)\n",
        "org"
      ]
    },
    {
      "cell_type": "code",
      "execution_count": 32,
      "metadata": {
        "id": "GZGoX6R4k3B4"
      },
      "outputs": [
        {
          "data": {
            "image/png": "[encoded data removed]",
            "text/plain": [
              "<Figure size 640x480 with 1 Axes>"
            ]
          },
          "metadata": {},
          "output_type": "display_data"
        }
      ],
      "source": [
        "alg = ['LR','DT','KNN','RF']\n",
        "plt.plot(alg,a1)\n",
        "plt.plot(alg,a2)\n",
        "plt.plot(alg,a3)\n",
        "plt.plot(alg,a4)\n",
        "plt.plot(alg,a5)\n",
        "legend = ['Traning Accuracy', 'Testing Accuracy', 'Precision Score', 'Recall Score', 'F1 Score']\n",
        "plt.title(\"METRICS COMPARISION\")\n",
        "plt.legend(legend)\n",
        "plt.show()"
      ]
    },
    {
      "cell_type": "code",
      "execution_count": 33,
      "metadata": {
        "id": "lf-NvZwxk9zE"
      },
      "outputs": [
        {
          "name": "stdout",
          "output_type": "stream",
          "text": [
            "HAM MAIL\n"
          ]
        }
      ],
      "source": [
        "input_mail = [\"if you want to going out, please hit me up\"]\n",
        "\n",
        "input_mail_features = feature_extraction.transform(input_mail)\n",
        "\n",
        "prediction = stack.predict(input_mail_features)\n",
        "\n",
        "if(prediction == 0):\n",
        "    print(\"SPAM MAIL\")\n",
        "else:\n",
        "    print(\"HAM MAIL\")"
      ]
    }
  ],
  "metadata": {
    "colab": {
      "provenance": []
    },
    "kernelspec": {
      "display_name": "Python 3",
      "name": "python3"
    },
    "language_info": {
      "codemirror_mode": {
        "name": "ipython",
        "version": 3
      },
      "file_extension": ".py",
      "mimetype": "text/x-python",
      "name": "python",
      "nbconvert_exporter": "python",
      "pygments_lexer": "ipython3",
      "version": "3.11.3"
    }
  },
  "nbformat": 4,
  "nbformat_minor": 0
}
